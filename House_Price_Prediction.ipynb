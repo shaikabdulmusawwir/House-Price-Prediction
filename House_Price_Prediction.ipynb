{
 "cells": [
  {
   "cell_type": "code",
   "execution_count": 1,
   "id": "908b12fd",
   "metadata": {},
   "outputs": [],
   "source": [
    "import pandas as pd\n",
    "import numpy as np\n",
    "import matplotlib.pyplot as plt\n",
    "from sklearn.model_selection import train_test_split\n",
    "from sklearn.ensemble import GradientBoostingRegressor\n",
    "from sklearn.metrics import r2_score,mean_absolute_error,root_mean_squared_error"
   ]
  },
  {
   "cell_type": "code",
   "execution_count": 3,
   "id": "dec6eb03",
   "metadata": {},
   "outputs": [
    {
     "data": {
      "text/html": [
       "<div>\n",
       "<style scoped>\n",
       "    .dataframe tbody tr th:only-of-type {\n",
       "        vertical-align: middle;\n",
       "    }\n",
       "\n",
       "    .dataframe tbody tr th {\n",
       "        vertical-align: top;\n",
       "    }\n",
       "\n",
       "    .dataframe thead th {\n",
       "        text-align: right;\n",
       "    }\n",
       "</style>\n",
       "<table border=\"1\" class=\"dataframe\">\n",
       "  <thead>\n",
       "    <tr style=\"text-align: right;\">\n",
       "      <th></th>\n",
       "      <th>Order\\tPID\\tMS SubClass\\tMS Zoning\\tLot Frontage\\tLot Area\\tStreet\\tAlley\\tLot Shape\\tLand Contour\\tUtilities\\tLot Config\\tLand Slope\\tNeighborhood\\tCondition 1\\tCondition 2\\tBldg Type\\tHouse Style\\tOverall Qual\\tOverall Cond\\tYear Built\\tYear Remod/Add\\tRoof Style\\tRoof Matl\\tExterior 1st\\tExterior 2nd\\tMas Vnr Type\\tMas Vnr Area\\tExter Qual\\tExter Cond\\tFoundation\\tBsmt Qual\\tBsmt Cond\\tBsmt Exposure\\tBsmtFin Type 1\\tBsmtFin SF 1\\tBsmtFin Type 2\\tBsmtFin SF 2\\tBsmt Unf SF\\tTotal Bsmt SF\\tHeating\\tHeating QC\\tCentral Air\\tElectrical\\t1st Flr SF\\t2nd Flr SF\\tLow Qual Fin SF\\tGr Liv Area\\tBsmt Full Bath\\tBsmt Half Bath\\tFull Bath\\tHalf Bath\\tBedroom AbvGr\\tKitchen AbvGr\\tKitchen Qual\\tTotRms AbvGrd\\tFunctional\\tFireplaces\\tFireplace Qu\\tGarage Type\\tGarage Yr Blt\\tGarage Finish\\tGarage Cars\\tGarage Area\\tGarage Qual\\tGarage Cond\\tPaved Drive\\tWood Deck SF\\tOpen Porch SF\\tEnclosed Porch\\t3Ssn Porch\\tScreen Porch\\tPool Area\\tPool QC\\tFence\\tMisc Feature\\tMisc Val\\tMo Sold\\tYr Sold\\tSale Type\\tSale Condition\\tSalePrice</th>\n",
       "    </tr>\n",
       "  </thead>\n",
       "  <tbody>\n",
       "    <tr>\n",
       "      <th>0</th>\n",
       "      <td>1\\t526301100\\t20\\tRL\\t141\\t31770\\tPave\\tNA\\tIR...</td>\n",
       "    </tr>\n",
       "    <tr>\n",
       "      <th>1</th>\n",
       "      <td>2\\t526350040\\t20\\tRH\\t80\\t11622\\tPave\\tNA\\tReg...</td>\n",
       "    </tr>\n",
       "    <tr>\n",
       "      <th>2</th>\n",
       "      <td>3\\t526351010\\t20\\tRL\\t81\\t14267\\tPave\\tNA\\tIR1...</td>\n",
       "    </tr>\n",
       "    <tr>\n",
       "      <th>3</th>\n",
       "      <td>4\\t526353030\\t20\\tRL\\t93\\t11160\\tPave\\tNA\\tReg...</td>\n",
       "    </tr>\n",
       "    <tr>\n",
       "      <th>4</th>\n",
       "      <td>5\\t527105010\\t60\\tRL\\t74\\t13830\\tPave\\tNA\\tIR1...</td>\n",
       "    </tr>\n",
       "    <tr>\n",
       "      <th>...</th>\n",
       "      <td>...</td>\n",
       "    </tr>\n",
       "    <tr>\n",
       "      <th>2925</th>\n",
       "      <td>2926\\t923275080\\t80\\tRL\\t37\\t7937\\tPave\\tNA\\tI...</td>\n",
       "    </tr>\n",
       "    <tr>\n",
       "      <th>2926</th>\n",
       "      <td>2927\\t923276100\\t20\\tRL\\t\\t8885\\tPave\\tNA\\tIR1...</td>\n",
       "    </tr>\n",
       "    <tr>\n",
       "      <th>2927</th>\n",
       "      <td>2928\\t923400125\\t85\\tRL\\t62\\t10441\\tPave\\tNA\\t...</td>\n",
       "    </tr>\n",
       "    <tr>\n",
       "      <th>2928</th>\n",
       "      <td>2929\\t924100070\\t20\\tRL\\t77\\t10010\\tPave\\tNA\\t...</td>\n",
       "    </tr>\n",
       "    <tr>\n",
       "      <th>2929</th>\n",
       "      <td>2930\\t924151050\\t60\\tRL\\t74\\t9627\\tPave\\tNA\\tR...</td>\n",
       "    </tr>\n",
       "  </tbody>\n",
       "</table>\n",
       "<p>2930 rows × 1 columns</p>\n",
       "</div>"
      ],
      "text/plain": [
       "     Order\\tPID\\tMS SubClass\\tMS Zoning\\tLot Frontage\\tLot Area\\tStreet\\tAlley\\tLot Shape\\tLand Contour\\tUtilities\\tLot Config\\tLand Slope\\tNeighborhood\\tCondition 1\\tCondition 2\\tBldg Type\\tHouse Style\\tOverall Qual\\tOverall Cond\\tYear Built\\tYear Remod/Add\\tRoof Style\\tRoof Matl\\tExterior 1st\\tExterior 2nd\\tMas Vnr Type\\tMas Vnr Area\\tExter Qual\\tExter Cond\\tFoundation\\tBsmt Qual\\tBsmt Cond\\tBsmt Exposure\\tBsmtFin Type 1\\tBsmtFin SF 1\\tBsmtFin Type 2\\tBsmtFin SF 2\\tBsmt Unf SF\\tTotal Bsmt SF\\tHeating\\tHeating QC\\tCentral Air\\tElectrical\\t1st Flr SF\\t2nd Flr SF\\tLow Qual Fin SF\\tGr Liv Area\\tBsmt Full Bath\\tBsmt Half Bath\\tFull Bath\\tHalf Bath\\tBedroom AbvGr\\tKitchen AbvGr\\tKitchen Qual\\tTotRms AbvGrd\\tFunctional\\tFireplaces\\tFireplace Qu\\tGarage Type\\tGarage Yr Blt\\tGarage Finish\\tGarage Cars\\tGarage Area\\tGarage Qual\\tGarage Cond\\tPaved Drive\\tWood Deck SF\\tOpen Porch SF\\tEnclosed Porch\\t3Ssn Porch\\tScreen Porch\\tPool Area\\tPool QC\\tFence\\tMisc Feature\\tMisc Val\\tMo Sold\\tYr Sold\\tSale Type\\tSale Condition\\tSalePrice\n",
       "0     1\\t526301100\\t20\\tRL\\t141\\t31770\\tPave\\tNA\\tIR...                                                                                                                                                                                                                                                                                                                                                                                                                                                                                                                                                                                                                                                                                                                                                                                                                                                                                                                                                                                                                    \n",
       "1     2\\t526350040\\t20\\tRH\\t80\\t11622\\tPave\\tNA\\tReg...                                                                                                                                                                                                                                                                                                                                                                                                                                                                                                                                                                                                                                                                                                                                                                                                                                                                                                                                                                                                                    \n",
       "2     3\\t526351010\\t20\\tRL\\t81\\t14267\\tPave\\tNA\\tIR1...                                                                                                                                                                                                                                                                                                                                                                                                                                                                                                                                                                                                                                                                                                                                                                                                                                                                                                                                                                                                                    \n",
       "3     4\\t526353030\\t20\\tRL\\t93\\t11160\\tPave\\tNA\\tReg...                                                                                                                                                                                                                                                                                                                                                                                                                                                                                                                                                                                                                                                                                                                                                                                                                                                                                                                                                                                                                    \n",
       "4     5\\t527105010\\t60\\tRL\\t74\\t13830\\tPave\\tNA\\tIR1...                                                                                                                                                                                                                                                                                                                                                                                                                                                                                                                                                                                                                                                                                                                                                                                                                                                                                                                                                                                                                    \n",
       "...                                                 ...                                                                                                                                                                                                                                                                                                                                                                                                                                                                                                                                                                                                                                                                                                                                                                                                                                                                                                                                                                                                                    \n",
       "2925  2926\\t923275080\\t80\\tRL\\t37\\t7937\\tPave\\tNA\\tI...                                                                                                                                                                                                                                                                                                                                                                                                                                                                                                                                                                                                                                                                                                                                                                                                                                                                                                                                                                                                                    \n",
       "2926  2927\\t923276100\\t20\\tRL\\t\\t8885\\tPave\\tNA\\tIR1...                                                                                                                                                                                                                                                                                                                                                                                                                                                                                                                                                                                                                                                                                                                                                                                                                                                                                                                                                                                                                    \n",
       "2927  2928\\t923400125\\t85\\tRL\\t62\\t10441\\tPave\\tNA\\t...                                                                                                                                                                                                                                                                                                                                                                                                                                                                                                                                                                                                                                                                                                                                                                                                                                                                                                                                                                                                                    \n",
       "2928  2929\\t924100070\\t20\\tRL\\t77\\t10010\\tPave\\tNA\\t...                                                                                                                                                                                                                                                                                                                                                                                                                                                                                                                                                                                                                                                                                                                                                                                                                                                                                                                                                                                                                    \n",
       "2929  2930\\t924151050\\t60\\tRL\\t74\\t9627\\tPave\\tNA\\tR...                                                                                                                                                                                                                                                                                                                                                                                                                                                                                                                                                                                                                                                                                                                                                                                                                                                                                                                                                                                                                    \n",
       "\n",
       "[2930 rows x 1 columns]"
      ]
     },
     "execution_count": 3,
     "metadata": {},
     "output_type": "execute_result"
    }
   ],
   "source": [
    "data=pd.read_csv(\"AmesHousing.csv\")\n",
    "data"
   ]
  },
  {
   "cell_type": "code",
   "execution_count": 12,
   "id": "45ea6bfb",
   "metadata": {},
   "outputs": [
    {
     "name": "stdout",
     "output_type": "stream",
     "text": [
      "Shape of dataset: (2930, 1)\n",
      "\n",
      "Missing values (top 10):\n",
      " Order\\tPID\\tMS SubClass\\tMS Zoning\\tLot Frontage\\tLot Area\\tStreet\\tAlley\\tLot Shape\\tLand Contour\\tUtilities\\tLot Config\\tLand Slope\\tNeighborhood\\tCondition 1\\tCondition 2\\tBldg Type\\tHouse Style\\tOverall Qual\\tOverall Cond\\tYear Built\\tYear Remod/Add\\tRoof Style\\tRoof Matl\\tExterior 1st\\tExterior 2nd\\tMas Vnr Type\\tMas Vnr Area\\tExter Qual\\tExter Cond\\tFoundation\\tBsmt Qual\\tBsmt Cond\\tBsmt Exposure\\tBsmtFin Type 1\\tBsmtFin SF 1\\tBsmtFin Type 2\\tBsmtFin SF 2\\tBsmt Unf SF\\tTotal Bsmt SF\\tHeating\\tHeating QC\\tCentral Air\\tElectrical\\t1st Flr SF\\t2nd Flr SF\\tLow Qual Fin SF\\tGr Liv Area\\tBsmt Full Bath\\tBsmt Half Bath\\tFull Bath\\tHalf Bath\\tBedroom AbvGr\\tKitchen AbvGr\\tKitchen Qual\\tTotRms AbvGrd\\tFunctional\\tFireplaces\\tFireplace Qu\\tGarage Type\\tGarage Yr Blt\\tGarage Finish\\tGarage Cars\\tGarage Area\\tGarage Qual\\tGarage Cond\\tPaved Drive\\tWood Deck SF\\tOpen Porch SF\\tEnclosed Porch\\t3Ssn Porch\\tScreen Porch\\tPool Area\\tPool QC\\tFence\\tMisc Feature\\tMisc Val\\tMo Sold\\tYr Sold\\tSale Type\\tSale Condition\\tSalePrice    0\n",
      "dtype: int64\n"
     ]
    }
   ],
   "source": [
    "data = data.dropna()# Handle missing values  \n",
    "data = data.drop_duplicates()\n",
    "print(\"Shape of dataset:\", data.shape)\n",
    "print(\"\\nMissing values (top 10):\\n\", data.isnull().sum().sort_values(ascending=False).head(10))"
   ]
  },
  {
   "cell_type": "code",
   "execution_count": 27,
   "id": "c6837b7c",
   "metadata": {},
   "outputs": [
    {
     "name": "stdout",
     "output_type": "stream",
     "text": [
      "Available columns:\n",
      " ['Order\\tPID\\tMS SubClass\\tMS Zoning\\tLot Frontage\\tLot Area\\tStreet\\tAlley\\tLot Shape\\tLand Contour\\tUtilities\\tLot Config\\tLand Slope\\tNeighborhood\\tCondition 1\\tCondition 2\\tBldg Type\\tHouse Style\\tOverall Qual\\tOverall Cond\\tYear Built\\tYear Remod/Add\\tRoof Style\\tRoof Matl\\tExterior 1st\\tExterior 2nd\\tMas Vnr Type\\tMas Vnr Area\\tExter Qual\\tExter Cond\\tFoundation\\tBsmt Qual\\tBsmt Cond\\tBsmt Exposure\\tBsmtFin Type 1\\tBsmtFin SF 1\\tBsmtFin Type 2\\tBsmtFin SF 2\\tBsmt Unf SF\\tTotal Bsmt SF\\tHeating\\tHeating QC\\tCentral Air\\tElectrical\\t1st Flr SF\\t2nd Flr SF\\tLow Qual Fin SF\\tGr Liv Area\\tBsmt Full Bath\\tBsmt Half Bath\\tFull Bath\\tHalf Bath\\tBedroom AbvGr\\tKitchen AbvGr\\tKitchen Qual\\tTotRms AbvGrd\\tFunctional\\tFireplaces\\tFireplace Qu\\tGarage Type\\tGarage Yr Blt\\tGarage Finish\\tGarage Cars\\tGarage Area\\tGarage Qual\\tGarage Cond\\tPaved Drive\\tWood Deck SF\\tOpen Porch SF\\tEnclosed Porch\\t3Ssn Porch\\tScreen Porch\\tPool Area\\tPool QC\\tFence\\tMisc Feature\\tMisc Val\\tMo Sold\\tYr Sold\\tSale Type\\tSale Condition\\tSalePrice']\n"
     ]
    }
   ],
   "source": [
    "# Drop high missing columns\n",
    "data = data.drop(columns=[\"Pool QC\", \"Misc Feature\", \"Alley\", \"Fence\"], errors=\"ignore\")\n",
    "print(\"Available columns:\\n\", data.columns.tolist())\n"
   ]
  },
  {
   "cell_type": "code",
   "execution_count": null,
   "id": "6efb9c54",
   "metadata": {},
   "outputs": [
    {
     "name": "stdout",
     "output_type": "stream",
     "text": [
      "Shape of dataset: (2930, 82)\n",
      "\n",
      "Missing values (top 10):\n",
      " Pool QC          2917\n",
      "Misc Feature     2824\n",
      "Alley            2732\n",
      "Fence            2358\n",
      "Mas Vnr Type     1775\n",
      "Fireplace Qu     1422\n",
      "Lot Frontage      490\n",
      "Garage Qual       159\n",
      "Garage Yr Blt     159\n",
      "Garage Cond       159\n",
      "dtype: int64\n",
      "\n",
      "Model Performance:\n",
      "R² Score:  0.9157748081150975\n",
      "Mean Absolute Error (MAE):  14436.352417963795\n",
      "Root Mean Square Error (RMSE):  25986.140785563166\n"
     ]
    }
   ],
   "source": [
    "import pandas as pd\n",
    "import numpy as np\n",
    "from sklearn.model_selection import train_test_split\n",
    "from sklearn.impute import SimpleImputer\n",
    "from sklearn.preprocessing import OneHotEncoder\n",
    "from sklearn.compose import ColumnTransformer\n",
    "from sklearn.pipeline import Pipeline\n",
    "from sklearn.ensemble import GradientBoostingRegressor\n",
    "from sklearn.metrics import r2_score, mean_absolute_error, mean_squared_error\n",
    "\n",
    "# Load dataset (tab separated)\n",
    "df = pd.read_csv(\"AmesHousing.csv\")\n",
    "\n",
    "# 1. Analyze Data\n",
    "print(\"Shape of dataset:\", df.shape)\n",
    "print(\"\\nMissing values (top 10):\\n\", df.isnull().sum().sort_values(ascending=False).head(10))\n",
    "\n",
    "# 2. Clean Data\n",
    "# Drop columns with too many missing values\n",
    "df = df.drop(columns=[\"Pool QC\", \"Misc Feature\", \"Alley\", \"Fence\"], errors=\"ignore\")\n",
    "\n",
    "# Separate features and target\n",
    "X = df.drop(columns=[\"SalePrice\"])\n",
    "y = df[\"SalePrice\"]\n",
    "\n",
    "# Identify categorical and numerical columns\n",
    "cat_cols = X.select_dtypes(include=[\"object\"]).columns\n",
    "num_cols = X.select_dtypes(exclude=[\"object\"]).columns\n",
    "\n",
    "# 3. Handle Missing Values\n",
    "num_transformer = SimpleImputer(strategy=\"median\")\n",
    "cat_transformer = Pipeline(steps=[(\"imputer\", SimpleImputer(strategy=\"most_frequent\")),(\"onehot\", OneHotEncoder(handle_unknown=\"ignore\"))])\n",
    "\n",
    "preprocessor = ColumnTransformer([(\"num\", num_transformer, num_cols),(\"cat\", cat_transformer, cat_cols)])\n",
    "\n",
    "# 4. Split Data\n",
    "X_train, X_test, y_train, y_test = train_test_split(X, y, test_size=0.2, random_state=42)\n",
    "\n",
    "# 5. Build + Train Model\n",
    "model = GradientBoostingRegressor(n_estimators=200,learning_rate=0.1,max_depth=3,random_state=42)\n",
    "pipeline = Pipeline(steps=[(\"preprocessor\", preprocessor),(\"model\", model)])\n",
    "pipeline.fit(X_train, y_train)\n",
    "\n",
    "# 6. Predict\n",
    "y_pred = pipeline.predict(X_test)\n",
    "\n",
    "# 7. Evaluation\n",
    "r2 = r2_score(y_test, y_pred)\n",
    "mae = mean_absolute_error(y_test, y_pred)\n",
    "rmse = np.sqrt(mean_squared_error(y_test, y_pred))\n",
    "\n",
    "print(\"\\nModel Performance:\")\n",
    "print(\"R² Score: \", r2)\n",
    "print(\"Mean Absolute Error (MAE): \", mae)\n",
    "print(\"Root Mean Square Error (RMSE): \", rmse)\n"
   ]
  },
  {
   "cell_type": "code",
   "execution_count": null,
   "id": "c0b9c6e2",
   "metadata": {},
   "outputs": [],
   "source": []
  }
 ],
 "metadata": {
  "kernelspec": {
   "display_name": "Python 3",
   "language": "python",
   "name": "python3"
  },
  "language_info": {
   "codemirror_mode": {
    "name": "ipython",
    "version": 3
   },
   "file_extension": ".py",
   "mimetype": "text/x-python",
   "name": "python",
   "nbconvert_exporter": "python",
   "pygments_lexer": "ipython3",
   "version": "3.12.6"
  }
 },
 "nbformat": 4,
 "nbformat_minor": 5
}
